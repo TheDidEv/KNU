{
  "metadata": {
    "kernelspec": {
      "name": "python",
      "display_name": "Python (Pyodide)",
      "language": "python"
    },
    "language_info": {
      "codemirror_mode": {
        "name": "python",
        "version": 3
      },
      "file_extension": ".py",
      "mimetype": "text/x-python",
      "name": "python",
      "nbconvert_exporter": "python",
      "pygments_lexer": "ipython3",
      "version": "3.8"
    }
  },
  "nbformat_minor": 5,
  "nbformat": 4,
  "cells": [
    {
      "id": "4bf23908-e8c6-4673-8789-652be8dc9f73",
      "cell_type": "code",
      "source": "import numpy as np\nfrom scipy.stats import uniform, kstest\n\nn_samples = 1000\n\nsamples = np.random.random(n_samples)\n\n# Обчислення середнього та дисперсії для вибірки\nsample_mean = np.mean(samples)\nsample_variance = np.var(samples)\n\n# Теоретичні значення\ntheoretical_mean = 0.5\ntheoretical_variance = 1 / 12\n\nks_stat, p_value = kstest(samples, uniform.cdf)\n\nsample_mean, sample_variance, theoretical_mean, theoretical_variance, ks_stat, p_value",
      "metadata": {
        "trusted": true
      },
      "outputs": [
        {
          "execution_count": 9,
          "output_type": "execute_result",
          "data": {
            "text/plain": "(0.501832500594267,\n 0.08362618357759502,\n 0.5,\n 0.08333333333333333,\n 0.021102444204090798,\n 0.7563911906127196)"
          },
          "metadata": {}
        }
      ],
      "execution_count": 9
    },
    {
      "id": "0ef0053a-733f-41c1-adf7-f50b1481cab7",
      "cell_type": "code",
      "source": "",
      "metadata": {
        "trusted": true
      },
      "outputs": [],
      "execution_count": null
    }
  ]
}