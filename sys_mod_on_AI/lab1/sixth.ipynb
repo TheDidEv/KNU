{
  "metadata": {
    "kernelspec": {
      "name": "python",
      "display_name": "Python (Pyodide)",
      "language": "python"
    },
    "language_info": {
      "codemirror_mode": {
        "name": "python",
        "version": 3
      },
      "file_extension": ".py",
      "mimetype": "text/x-python",
      "name": "python",
      "nbconvert_exporter": "python",
      "pygments_lexer": "ipython3",
      "version": "3.8"
    }
  },
  "nbformat_minor": 5,
  "nbformat": 4,
  "cells": [
    {
      "id": "4bf23908-e8c6-4673-8789-652be8dc9f73",
      "cell_type": "code",
      "source": "import math\nimport random\n\n\ndef get_area(functions, x_min, x_max, y_min, y_max, n):\n    area = 0\n    for i in range(n):\n        x = random.uniform(x_min, x_max)\n        y = random.uniform(y_min, y_max)\n        for function in functions:\n            if not function(x, y):\n                break\n        else:\n            area += 1\n    return area / n * (x_max - x_min) * (y_max - y_min)\n\n\ndef get_volume(functions, x_min, x_max, y_min, y_max, z_min, z_max, n):\n    volume = 0\n    for i in range(n):\n        x = random.uniform(x_min, x_max)\n        y = random.uniform(y_min, y_max)\n        z = random.uniform(z_min, z_max)\n        for function in functions:\n            if not function(x, y, z):\n                break\n        else:\n            volume += 1\n\n    return volume / n * (x_max - x_min) * (y_max - y_min) * (z_max - z_min)\n\n\ndef paraboloid(x, y, z):\n    return x ** 2 + y ** 2 <= z\n\n\ndef f1_1(x, y):\n    return (-1) * x <= y <= x\n\n\ndef f2_2(x, y):\n    return 2 * x <= y ** 2 + x ** 2 <= 4 * x\n\n\ndef heart_func(x, y):\n    return x ** 2 + (y - math.sqrt(abs(x))) ** 2 - 1 < 0\n\n\ndef astroid_func(x, y):\n    return abs(x) ** (2 / 3) + abs(y) ** (2 / 3) <= 1\n\n\nif __name__ == '__main__':\n    fig_1_area = get_area([f1_1, f2_2], 0, 4, -2, 2, 100000)\n    heart_area = get_area([heart_func], -1, 1, -1, 2, 100000)\n    astroid_area = get_area([astroid_func], -1, 1, -1, 1, 100000)\n\n    print(f\"fig_1_area: {fig_1_area}\")\n    print(f\"heart_area: {heart_area}\")\n    print(f\"astroid_area: {astroid_area}\")\n\n    paraboloid_volume = get_volume([paraboloid], -1, 1, -1, 1, 0, 1, 100000)\n    print(f\"paraboloid_volume: {paraboloid_volume}\")",
      "metadata": {
        "trusted": true
      },
      "outputs": [
        {
          "name": "stdout",
          "text": "fig_1_area: 7.75936\nheart_area: 3.13038\nastroid_area: 1.18092\nparaboloid_volume: 1.57764\n",
          "output_type": "stream"
        }
      ],
      "execution_count": 1
    },
    {
      "id": "40a14e4b-0ea3-4761-ab53-4f512ff5b109",
      "cell_type": "code",
      "source": "",
      "metadata": {
        "trusted": true
      },
      "outputs": [],
      "execution_count": null
    }
  ]
}