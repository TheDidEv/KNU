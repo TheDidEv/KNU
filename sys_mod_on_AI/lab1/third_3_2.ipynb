{
  "metadata": {
    "kernelspec": {
      "name": "python",
      "display_name": "Python (Pyodide)",
      "language": "python"
    },
    "language_info": {
      "codemirror_mode": {
        "name": "python",
        "version": 3
      },
      "file_extension": ".py",
      "mimetype": "text/x-python",
      "name": "python",
      "nbconvert_exporter": "python",
      "pygments_lexer": "ipython3",
      "version": "3.8"
    }
  },
  "nbformat_minor": 5,
  "nbformat": 4,
  "cells": [
    {
      "id": "4bf23908-e8c6-4673-8789-652be8dc9f73",
      "cell_type": "code",
      "source": "import numpy as np\nfrom scipy.stats import uniform, kstest\n\na, b = 2, 10\nn_samples = 1000\n\n# Метод оберненої функції розподілу\nu_samples = np.random.random(n_samples)\ninverse_samples = a + (b - a) * u_samples  \n\n# Генерація вибірки за допомогою random.uniform\ndirect_samples = np.random.uniform(a, b, n_samples)\n\n# Середнє та дисперсія вибірки для двох підходів\ninverse_mean, inverse_variance = np.mean(inverse_samples), np.var(inverse_samples)\ndirect_mean, direct_variance = np.mean(direct_samples), np.var(direct_samples)\n\n# Теоретичні значення\ntheoretical_mean = (a + b) / 2\ntheoretical_variance = (b - a)**2 / 12\n\nks_stat_inv, p_value_inv = kstest(inverse_samples, uniform(loc=a, scale=b - a).cdf)\nks_stat_dir, p_value_dir = kstest(direct_samples, uniform(loc=a, scale=b - a).cdf)\n\n(inverse_mean, inverse_variance), (direct_mean, direct_variance), theoretical_mean, theoretical_variance, \\\nks_stat_inv, p_value_inv, ks_stat_dir, p_value_dir\n",
      "metadata": {
        "trusted": true
      },
      "outputs": [
        {
          "execution_count": 10,
          "output_type": "execute_result",
          "data": {
            "text/plain": "((6.125625651195467, 4.9738045373720015),\n (6.040373832750705, 5.288116058049754),\n 6.0,\n 5.333333333333333,\n 0.04881194454788851,\n 0.01647201077500227,\n 0.020118809250485925,\n 0.8052205627335001)"
          },
          "metadata": {}
        }
      ],
      "execution_count": 10
    },
    {
      "id": "0ef0053a-733f-41c1-adf7-f50b1481cab7",
      "cell_type": "code",
      "source": "",
      "metadata": {
        "trusted": true
      },
      "outputs": [],
      "execution_count": null
    }
  ]
}