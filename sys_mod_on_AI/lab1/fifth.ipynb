{
  "metadata": {
    "kernelspec": {
      "name": "python",
      "display_name": "Python (Pyodide)",
      "language": "python"
    },
    "language_info": {
      "codemirror_mode": {
        "name": "python",
        "version": 3
      },
      "file_extension": ".py",
      "mimetype": "text/x-python",
      "name": "python",
      "nbconvert_exporter": "python",
      "pygments_lexer": "ipython3",
      "version": "3.8"
    }
  },
  "nbformat_minor": 5,
  "nbformat": 4,
  "cells": [
    {
      "id": "4bf23908-e8c6-4673-8789-652be8dc9f73",
      "cell_type": "code",
      "source": "import numpy as np\n\ndef f(x1, x2):\n    return -x1 * np.sin(np.sqrt(abs(x1))) + x2 * np.cos(np.sqrt(abs(x2)))\n\nnum_iterations = 10000\nx1_bounds = [-30, 30]\nx2_bounds = [-10, 10]\n\nbest_x1, best_x2 = None, None\nbest_value = float('-inf') \n\nfor _ in range(num_iterations):\n    x1 = np.random.uniform(x1_bounds[0], x1_bounds[1])\n    x2 = np.random.uniform(x2_bounds[0], x2_bounds[1])\n    value = f(x1, x2)\n    \n    # Якщо потрібно знайти мінімум, змінемо порівняння if value > best_value на if value < best_value\n    if value > best_value:\n        best_value = value\n        best_x1, best_x2 = x1, x2\n\nbest_x1, best_x2, best_value\n",
      "metadata": {
        "trusted": true
      },
      "outputs": [
        {
          "execution_count": 20,
          "output_type": "execute_result",
          "data": {
            "text/plain": "(25.482983636618215, -9.854867122402702, 33.91554380734969)"
          },
          "metadata": {}
        }
      ],
      "execution_count": 20
    },
    {
      "id": "0ef0053a-733f-41c1-adf7-f50b1481cab7",
      "cell_type": "code",
      "source": "",
      "metadata": {
        "trusted": true
      },
      "outputs": [],
      "execution_count": null
    }
  ]
}