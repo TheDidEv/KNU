{
  "metadata": {
    "kernelspec": {
      "name": "python",
      "display_name": "Python (Pyodide)",
      "language": "python"
    },
    "language_info": {
      "codemirror_mode": {
        "name": "python",
        "version": 3
      },
      "file_extension": ".py",
      "mimetype": "text/x-python",
      "name": "python",
      "nbconvert_exporter": "python",
      "pygments_lexer": "ipython3",
      "version": "3.8"
    }
  },
  "nbformat_minor": 5,
  "nbformat": 4,
  "cells": [
    {
      "id": "4bf23908-e8c6-4673-8789-652be8dc9f73",
      "cell_type": "code",
      "source": "import numpy as np\nfrom scipy.integrate import quad\n\ndef integrand(u):\n    return np.exp(-u**2 / 2)\n\ndef f_x(x):\n    integral_value, _ = quad(integrand, 0, x)\n    return (1 / np.sqrt(2 * np.pi)) * integral_value\n\n# Значення xi = 0.(i*10) для i від 1 до 5\nx_values = [0.0 + (i * 10) * 0.01 for i in range(1, 6)]\nf_values = [f_x(x) for x in x_values]\n\nf_values\n",
      "metadata": {
        "trusted": true
      },
      "outputs": [
        {
          "execution_count": 17,
          "output_type": "execute_result",
          "data": {
            "text/plain": "[0.03982783727702899,\n 0.07925970943910303,\n 0.11791142218895265,\n 0.1554217416103242,\n 0.19146246127401312]"
          },
          "metadata": {}
        }
      ],
      "execution_count": 17
    },
    {
      "id": "0ef0053a-733f-41c1-adf7-f50b1481cab7",
      "cell_type": "code",
      "source": "",
      "metadata": {
        "trusted": true
      },
      "outputs": [],
      "execution_count": null
    }
  ]
}