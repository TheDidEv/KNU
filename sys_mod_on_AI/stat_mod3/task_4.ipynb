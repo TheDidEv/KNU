{
 "cells": [
  {
   "cell_type": "code",
   "execution_count": 4,
   "metadata": {
    "vscode": {
     "languageId": "plaintext"
    }
   },
   "outputs": [
    {
     "name": "stdout",
     "output_type": "stream",
     "text": [
      "Ймовірність успіху при випадковому виборі (50 спроб): 0.0000\n",
      "Ймовірність успіху при виборі за алгоритмом (50 спроб): 0.3060\n",
      "Ймовірність успіху при виборі за алгоритмом (60 спроб): 0.4880\n",
      "Ймовірність успіху при виборі за алгоритмом (75 спроб): 0.7240\n"
     ]
    }
   ],
   "source": [
    "import numpy as np\n",
    "\n",
    "def random_strategy(num_prisoners, num_attempts=50):\n",
    "    boxes = np.random.permutation(num_prisoners) + 1  \n",
    "    for prisoner in range(1, num_prisoners + 1):\n",
    "        opened_boxes = np.random.choice(num_prisoners, num_attempts, replace=False)\n",
    "        if prisoner not in boxes[opened_boxes - 1]:\n",
    "            return False  \n",
    "    return True  \n",
    "\n",
    "def cycle_strategy(num_prisoners, num_attempts=50):\n",
    "    \"\"\"\n",
    "    Реалізація алгоритму \"циклів\".\n",
    "    \"\"\"\n",
    "    boxes = np.random.permutation(num_prisoners) + 1  \n",
    "    for prisoner in range(1, num_prisoners + 1):\n",
    "        box_to_open = prisoner\n",
    "        for attempt in range(num_attempts):\n",
    "            if boxes[box_to_open - 1] == prisoner:\n",
    "                break\n",
    "            box_to_open = boxes[box_to_open - 1] \n",
    "        else:\n",
    "            return False \n",
    "    return True \n",
    "\n",
    "def simulate(strategy, num_trials=1000, num_prisoners=100, num_attempts=50):\n",
    "    success_count = 0\n",
    "    for _ in range(num_trials):\n",
    "        if strategy(num_prisoners, num_attempts):\n",
    "            success_count += 1\n",
    "    return success_count / num_trials  \n",
    "\n",
    "num_prisoners = 100\n",
    "num_trials = 1000\n",
    "\n",
    "random_success_50 = simulate(random_strategy, num_trials, num_prisoners, 50)\n",
    "print(f\"Ймовірність успіху при випадковому виборі (50 спроб): {random_success_50:.4f}\")\n",
    "\n",
    "cycle_success_50 = simulate(cycle_strategy, num_trials, num_prisoners, 50)\n",
    "print(f\"Ймовірність успіху при виборі за алгоритмом (50 спроб): {cycle_success_50:.4f}\")\n",
    "\n",
    "cycle_success_60 = simulate(cycle_strategy, num_trials, num_prisoners, 60)\n",
    "print(f\"Ймовірність успіху при виборі за алгоритмом (60 спроб): {cycle_success_60:.4f}\")\n",
    "\n",
    "cycle_success_75 = simulate(cycle_strategy, num_trials, num_prisoners, 75)\n",
    "print(f\"Ймовірність успіху при виборі за алгоритмом (75 спроб): {cycle_success_75:.4f}\")\n"
   ]
  },
  {
   "cell_type": "code",
   "execution_count": null,
   "metadata": {},
   "outputs": [],
   "source": []
  }
 ],
 "metadata": {
  "kernelspec": {
   "display_name": "Python 3 (ipykernel)",
   "language": "python",
   "name": "python3"
  },
  "language_info": {
   "codemirror_mode": {
    "name": "ipython",
    "version": 3
   },
   "file_extension": ".py",
   "mimetype": "text/x-python",
   "name": "python",
   "nbconvert_exporter": "python",
   "pygments_lexer": "ipython3",
   "version": "3.10.12"
  }
 },
 "nbformat": 4,
 "nbformat_minor": 4
}
