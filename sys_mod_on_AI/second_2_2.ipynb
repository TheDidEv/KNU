{
  "metadata": {
    "kernelspec": {
      "name": "python",
      "display_name": "Python (Pyodide)",
      "language": "python"
    },
    "language_info": {
      "codemirror_mode": {
        "name": "python",
        "version": 3
      },
      "file_extension": ".py",
      "mimetype": "text/x-python",
      "name": "python",
      "nbconvert_exporter": "python",
      "pygments_lexer": "ipython3",
      "version": "3.8"
    }
  },
  "nbformat_minor": 5,
  "nbformat": 4,
  "cells": [
    {
      "id": "4bf23908-e8c6-4673-8789-652be8dc9f73",
      "cell_type": "code",
      "source": "from collections import Counter\nfrom scipy.stats import chisquare\n\npossible_sums = np.arange(2, 13)\ntheoretical_probabilities = np.array([1, 2, 3, 4, 5, 6, 5, 4, 3, 2, 1]) / 36\n\nn_experiments = 1000\ndice1 = np.random.randint(1, 7, n_experiments)\ndice2 = np.random.randint(1, 7, n_experiments)\nsums = dice1 + dice2\n\nsum_counts = Counter(sums)\nexperimental_frequencies = np.array([sum_counts.get(sum_val, 0) / n_experiments for sum_val in possible_sums])\n\nchi2_stat, p_value = chisquare(f_obs=experimental_frequencies * n_experiments, f_exp=theoretical_probabilities * n_experiments)\n\ntheoretical_probabilities, experimental_frequencies, chi2_stat, p_value\n",
      "metadata": {
        "trusted": true
      },
      "outputs": [
        {
          "execution_count": 5,
          "output_type": "execute_result",
          "data": {
            "text/plain": "(array([0.02777778, 0.05555556, 0.08333333, 0.11111111, 0.13888889,\n        0.16666667, 0.13888889, 0.11111111, 0.08333333, 0.05555556,\n        0.02777778]),\n array([0.026, 0.048, 0.088, 0.106, 0.156, 0.182, 0.133, 0.112, 0.067,\n        0.05 , 0.032]),\n 9.811999999999998,\n 0.4571392586995481)"
          },
          "metadata": {}
        }
      ],
      "execution_count": 5
    },
    {
      "id": "40a14e4b-0ea3-4761-ab53-4f512ff5b109",
      "cell_type": "code",
      "source": "",
      "metadata": {
        "trusted": true
      },
      "outputs": [],
      "execution_count": null
    }
  ]
}