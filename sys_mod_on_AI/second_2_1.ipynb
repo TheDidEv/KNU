{
  "metadata": {
    "kernelspec": {
      "name": "python",
      "display_name": "Python (Pyodide)",
      "language": "python"
    },
    "language_info": {
      "codemirror_mode": {
        "name": "python",
        "version": 3
      },
      "file_extension": ".py",
      "mimetype": "text/x-python",
      "name": "python",
      "nbconvert_exporter": "python",
      "pygments_lexer": "ipython3",
      "version": "3.8"
    }
  },
  "nbformat_minor": 5,
  "nbformat": 4,
  "cells": [
    {
      "id": "4bf23908-e8c6-4673-8789-652be8dc9f73",
      "cell_type": "code",
      "source": "import numpy as np\n\nx_values = np.array([1, 2, 3, 4, 5, 6])\np_values = np.array([1/6] * 6)\n\n# Теоретичне середнє значення\ntheoretical_mean = np.sum(x_values * p_values)\n\nsample = np.random.choice(x_values, size=100, p=p_values)\n\n# Обчислення середнього значення для вибірки\nsample_mean = np.mean(sample)\n\ntheoretical_mean, sample_mean\n",
      "metadata": {
        "trusted": true
      },
      "outputs": [
        {
          "execution_count": 3,
          "output_type": "execute_result",
          "data": {
            "text/plain": "(3.5, 3.78)"
          },
          "metadata": {}
        }
      ],
      "execution_count": 3
    },
    {
      "id": "40a14e4b-0ea3-4761-ab53-4f512ff5b109",
      "cell_type": "code",
      "source": "",
      "metadata": {
        "trusted": true
      },
      "outputs": [],
      "execution_count": null
    }
  ]
}